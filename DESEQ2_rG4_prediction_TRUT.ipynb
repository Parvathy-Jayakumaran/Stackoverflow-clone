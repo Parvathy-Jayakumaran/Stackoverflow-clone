{
  "cells": [
    {
      "cell_type": "markdown",
      "metadata": {
        "id": "view-in-github",
        "colab_type": "text"
      },
      "source": [
        "<a href=\"https://colab.research.google.com/github/Parvathy-Jayakumaran/Stackoverflow-clone/blob/main/DESEQ2_rG4_prediction_TRUT.ipynb\" target=\"_parent\"><img src=\"https://colab.research.google.com/assets/colab-badge.svg\" alt=\"Open In Colab\"/></a>"
      ]
    },
    {
      "cell_type": "markdown",
      "metadata": {
        "id": "REjOZuVA8Nnk"
      },
      "source": [
        "Loading all the libraries in advance for keeping the codes and the libraries separate"
      ]
    },
    {
      "cell_type": "markdown",
      "metadata": {
        "id": "00gz7fcn8IkR"
      },
      "source": [
        "Uploaded the files of interest, for reading and analysing the data"
      ]
    },
    {
      "cell_type": "markdown",
      "metadata": {
        "id": "AdAQX-G99Plc"
      },
      "source": [
        "The codeline where the DEGs are filtered. Using the same pvalue and log foldchange parameter like before"
      ]
    },
    {
      "cell_type": "markdown",
      "metadata": {
        "id": "3oeymooFB-jw"
      },
      "source": [
        "Use the rG4detector for rG4 prediction from the list of FASTA files"
      ]
    },
    {
      "cell_type": "markdown",
      "metadata": {
        "id": "IGTOjhwqFM7M"
      },
      "source": [
        "Running the R libraries and total Code in here to compare together"
      ]
    },
    {
      "cell_type": "code",
      "execution_count": null,
      "metadata": {
        "id": "rr1itcOb2Jyq"
      },
      "outputs": [],
      "source": [
        "install.packages(\"reticulate\")\n",
        "library(reticulate)\n"
      ]
    },
    {
      "cell_type": "code",
      "execution_count": null,
      "metadata": {
        "colab": {
          "background_save": true
        },
        "id": "PROP2QdSG2mH"
      },
      "outputs": [],
      "source": [
        "install.packages(\"BiocManager\")\n",
        "install.packages(\"ggrepel\")\n",
        "install.packages(\"readxl\")\n",
        "install.packages(\"tidyverse\")\n",
        "install.packages(\"dplyr\")\n",
        "\n",
        "BiocManager::install(\"pqsfinder\")\n",
        "BiocManager::install(\"biomaRt\")\n",
        "BiocManager::install(\"Biostrings\")"
      ]
    },
    {
      "cell_type": "code",
      "execution_count": null,
      "metadata": {
        "colab": {
          "background_save": true
        },
        "id": "vYg407mnK75S"
      },
      "outputs": [],
      "source": [
        "install.packages(\"readxl\")"
      ]
    },
    {
      "cell_type": "code",
      "execution_count": null,
      "metadata": {
        "colab": {
          "background_save": true
        },
        "id": "iPbwlvDlLXRZ"
      },
      "outputs": [],
      "source": [
        "install.packages(\"ggrepel\")\n",
        "if (!requireNamespace(\"DESeq2\", quietly = TRUE)) {\n",
        "  BiocManager::install(\"DESeq2\")\n",
        "}\n",
        "\n",
        "BiocManager::install(\"clusterProfile\")\n",
        "BiocManager::install(\"gogadget\")"
      ]
    },
    {
      "cell_type": "markdown",
      "metadata": {
        "id": "wUWRgtDo_kW1"
      },
      "source": [
        "The entire R code for the original file"
      ]
    },
    {
      "cell_type": "code",
      "execution_count": null,
      "metadata": {
        "colab": {
          "background_save": true
        },
        "id": "siOIWpKYJXYt"
      },
      "outputs": [],
      "source": [
        "library(dplyr)\n",
        "library(tidyverse)\n",
        "library(readxl)\n",
        "library(DESeq2)\n",
        "library(Biostrings)\n",
        "library(biomaRt)\n",
        "library(pqsfinder)\n",
        "library(ggrepel)\n",
        "\n",
        "\n",
        "sheet1 <- read_excel(\n",
        "  \"/content/Wild Untreated Total_vs_Mutant Untreated Total2.Differential_Expression.xlsx\",\n",
        "  sheet = 1\n",
        ")\n",
        "sheet2 <- read_excel(\n",
        "  \"/content/Wild Untreated Total_vs_Mutant Untreated Total2.Differential_Expression.xlsx\",\n",
        "  sheet = 2\n",
        ")\n",
        "sheet3 <- read_excel(\n",
        "  \"/content/Wild Untreated Total_vs_Mutant Untreated Total2.Differential_Expression.xlsx\",\n",
        "  sheet = 3\n",
        ")\n",
        "degs <- subset(sheet1, pvalue < 0.05 & abs(log2FoldChange) < 1)\n",
        "head(degs[order(degs$padj), 1])\n",
        "\n",
        "degs <- subset(sheet1, pvalue < 0.05 & abs(log2FoldChange) < 1) #The pvalue at 0.05 gave only 1 and at 0.001 gavenone\n",
        "head(degs[order(degs$padj), 1])\n",
        "nrow(degs)\n",
        "\n",
        "write.table(\n",
        "  degs,\n",
        "  file = \"degs_HU_Polysome.tsv\",\n",
        "  quote = FALSE,\n",
        "  sep = \"\\t\",\n",
        "  row.names = FALSE,\n",
        "  col.names = TRUE # Typically better to keep column names in output file\n",
        ")\n",
        "gene_ids <- degs$Id\n",
        "gene_ids <- gene_ids[gene_ids != \"\"]\n",
        "gene_ids <- na.omit(gene_ids)\n",
        "gene_ids <- unique(gene_ids)\n",
        "library(biomaRt)\n",
        "\n",
        "\n",
        "mart <- useMart(biomart = \"ensembl\", dataset = \"scerevisiae_gene_ensembl\")\n",
        "\n",
        "# Attributes to retrieve: ensembl_gene_id, ensembl_transcript_id, and cdna sequence\n",
        "attributes_feature <- c(\n",
        "  \"ensembl_gene_id\",\n",
        "  \"ensembl_transcript_id\",\n",
        "  \"cdna\",\n",
        "  \"sgd_gene\"\n",
        ")\n",
        "\n",
        "attributes_structure <- c(\n",
        "  \"ensembl_gene_id\",\n",
        "  \"5_utr_start\",\n",
        "  \"5_utr_end\",\n",
        "  \"3_utr_start\",\n",
        "  \"3_utr_end\",\n",
        "  \"description\"\n",
        ")\n",
        "\n",
        "\n",
        "# Filter to use - for example 'sgd_gene' as the IDs are SGD locus tags\n",
        "filter <- \"sgd_gene\"\n",
        "\n",
        "# Clean gene_ids vector before query\n",
        "gene_ids_clean <- unique(na.omit(gene_ids))\n",
        "gene_ids_clean <- gene_ids_clean[gene_ids_clean != \"\"]\n",
        "\n",
        "# Query sequences with getBM in batches to avoid overload\n",
        "chunk_size <- 50\n",
        "results_list <- list()\n",
        "\n",
        "results_list1 <- list()\n",
        "\n",
        "for (i in seq(1, length(gene_ids_clean), by = chunk_size)) {\n",
        "  chunk <- gene_ids_clean[i:min(i + chunk_size - 1, length(gene_ids_clean))]\n",
        "\n",
        "  res1 <- getBM(\n",
        "    attributes = attributes_structure,\n",
        "    filters = filter,\n",
        "    values = chunk,\n",
        "    mart = mart\n",
        "  )\n",
        "  results_list1[[length(results_list1) + 1]] <- res1\n",
        "}\n",
        "\n",
        "seq_data <- do.call(rbind, results_list1)\n",
        "print(nrow(degs))\n",
        "head(seq_data)\n",
        "head(gene_ids)\n",
        "head(seq_data)\n",
        "seq_data <- getSequence(\n",
        "  id = gene_ids,\n",
        "  type = \"ensembl_gene_id\",\n",
        "  seqType = \"cdna\",\n",
        "  mart = mart\n",
        ")\n",
        "head(seq_data)\n",
        "\n",
        "rna_seqs <- chartr(\"T\", \"U\", seq_data$cdna)\n",
        "rna_seqs <- RNAStringSet(rna_seqs)\n",
        "head(rna_seqs)\n",
        "\n",
        "# Downloading the sequences as FASTA\n",
        "writeXStringSet(\n",
        "  rna_seqs,\n",
        "  filepath = \"rna_sequences_HU_Polysome.fasta\",\n",
        "  format = \"fasta\"\n",
        ")\n",
        "\n",
        "library(pqsfinder)\n",
        "results <- lapply(rna_seqs, pqsfinder)\n",
        "num_rG4s <- sapply(results, length)\n",
        "head(results)\n",
        "hist(\n",
        "  num_rG4s,\n",
        "  main = \"Number of rG4 motifs per transcripts\",\n",
        "  xlab = \"Count of rG4 motifs\"\n",
        ")\n",
        "names(rna_seqs) <- seq_data$ensembl_gene_id\n",
        "names(results) <- names(rna_seqs)\n",
        "head(names(results))\n",
        "\n",
        "rG4_positive_transcripts <- names(results)[sapply(results, length) > 0]\n",
        "print(rG4_positive_transcripts)\n",
        "write.table(\n",
        "  rG4_positive_transcripts,\n",
        "  file = \"rG4_positive_transcripts_HU_Polysome.tsv\",\n",
        "  quote = FALSE,\n",
        "  sep = \"\\t\",\n",
        "  row.names = FALSE,\n",
        "  col.names = FALSE\n",
        ")\n",
        "\n",
        "get_motif_details <- function(pq_obj) {\n",
        "  if (length(pq_obj) == 0) {\n",
        "    return(NULL)\n",
        "  }\n",
        "  data.frame(\n",
        "    start = start(pq_obj),\n",
        "    end = end(pq_obj),\n",
        "    score = mcols(pq_obj)$score,\n",
        "    sequence = as.character(pq_obj),\n",
        "    stringsAsFactors = FALSE\n",
        "  )\n",
        "}\n",
        "motif_details_list <- mapply(\n",
        "  function(pq_obj, ensemble_id) {\n",
        "    df <- get_motif_details(pq_obj)\n",
        "    if (!is.null(df)) {\n",
        "      df$transcript_id <- ensemble_id\n",
        "    }\n",
        "    df\n",
        "  },\n",
        "  results[names(results) != \"\"],\n",
        "  names(results[names(results) != \"\"]),\n",
        "  SIMPLIFY = FALSE\n",
        ")\n",
        "\n",
        "motif_details <- bind_rows(motif_details_list)\n",
        "head(motif_details)\n",
        "\n",
        "write.table(\n",
        "  motif_details,\n",
        "  file = \"rG4_motif_details_list_HU_Polysome.tsv\",\n",
        "  quote = FALSE,\n",
        "  sep = \"\\t\",\n",
        "  row.names = FALSE,\n",
        "  col.names = TRUE # Typically better to keep column names in output file\n",
        ")\n",
        "#Plotting the curves - Volcano Plot\n",
        "degs$color_group <- ifelse(\n",
        "  degs$Id %in% rG4_positive_transcripts,\n",
        "  \"rG4_positive\",\n",
        "  \"Other\"\n",
        ")\n",
        "library(ggplot2)\n",
        "library(ggrepel)\n",
        "\n",
        "ggplot(degs, aes(x = log2FoldChange, y = -log10(pvalue), color = color_group)) +\n",
        "  geom_point(alpha = 0.7) +\n",
        "  scale_color_manual(values = c(\"rG4_positive\" = \"red\", \"Other\" = \"grey\")) +\n",
        "  geom_text_repel(\n",
        "    data = subset(degs, color_group == \"rG4_positive\"),\n",
        "    aes(label = Id),\n",
        "    size = 3,\n",
        "    box.padding = 0.3,\n",
        "    point.padding = 0.5,\n",
        "    segment.color = \"grey50\"\n",
        "  ) +\n",
        "  theme_minimal() +\n",
        "  labs(\n",
        "    title = \"Volcano Plot: rG4 Positive vs Other Genes\",\n",
        "    x = \"log2 Fold Change\",\n",
        "    y = \"-log10 p-value\"\n",
        "  )\n",
        "\n",
        "#MA Plot: Shows fold change vs Mean expression\n",
        "library(ggplot2)\n",
        "ggplot(degs, aes(x = baseMean, y = log2FoldChange, color = color_group)) +\n",
        "  geom_point(alpha = 0.7) +\n",
        "  scale_color_manual(values = c(\"rG4_positive\" = \"red\", \"Other\" = \"grey\")) +\n",
        "  geom_text_repel(\n",
        "    data = subset(degs, color_group == \"rG4_positive\"),\n",
        "    aes(label = Id),\n",
        "    size = 3\n",
        "  ) +\n",
        "  labs(\n",
        "    title = \"MA Plot: Highlighting rG4 Positive Genes\",\n",
        "    x = \"Mean Expression (baseMean)\",\n",
        "    y = \"log2 Fold Change\"\n",
        "  ) +\n",
        "  theme_minimal()\n"
      ]
    },
    {
      "cell_type": "markdown",
      "metadata": {
        "id": "55ou39f-Oobv"
      },
      "source": [
        "Testing the rG4 predictors in rG4detector"
      ]
    },
    {
      "cell_type": "code",
      "execution_count": null,
      "metadata": {
        "id": "JZ4TJV_pOt_I"
      },
      "outputs": [],
      "source": [
        "names(rna_seqs)\n",
        "head(rna_seqs)\n",
        "print(head(names(rna_seqs)))\n",
        "writeXStringSet(\n",
        "  rna_seqs,\n",
        "  filepath = \"rna_sequences_HU_Polysome.fasta\",\n",
        "  format = \"fasta\"\n",
        ")\n",
        "\n",
        "\n",
        "# Read first 10 lines of the FASTA file\n",
        "lines <- readLines(\"rna_sequences_HU_Polysome.fasta\", n = 10)\n",
        "print(lines)\n"
      ]
    },
    {
      "cell_type": "code",
      "source": [
        "# 1. Load required libraries (install if necessary)\n",
        "if (!requireNamespace(\"BiocManager\", quietly=TRUE)) install.packages(\"BiocManager\")\n",
        "BiocManager::install(c(\"clusterProfiler\", \"org.Hs.eg.db\", \"enrichplot\", \"pathview\", \"GO.db\"))\n",
        "\n",
        "library(clusterProfiler)\n",
        "library(org.Hs.eg.db)  # Change for your organism, e.g. org.Mm.eg.db for mouse\n",
        "library(enrichplot)\n",
        "library(pathview)\n",
        "library(GO.db)\n",
        "\n",
        "# 2. Load your DEG results (example: CSV with columns gene_id, pvalue, padj, log2FC)\n",
        "\n",
        "# 3. Filter significant DEGs (adjust thresholds as needed)\n",
        "sig_degs <- subset(degs, padj < 0.05 & abs(log2FC) > 1)\n",
        "gene_ids <- sig_degs$Id  # e.g. Ensembl IDs or gene symbols\n",
        "\n",
        "# 4. Convert gene IDs to ENTREZ for KEGG (change fromType as per your IDs)\n",
        "entrez_ids <- bitr(gene_ids, fromType=\"ENSEMBL\", toType=\"ENTREZID\", OrgDb=org.Hs.eg.db)\n",
        "entrez_list <- unique(entrez_ids$ENTREZID)\n",
        "\n",
        "# 5. GO Enrichment Analysis (biological process, molecular function, cellular component)\n",
        "ego <- enrichGO(\n",
        "  gene = gene_ids,\n",
        "  OrgDb = org.Hs.eg.db,\n",
        "  keyType = \"ENSEMBL\",   # Adjust if you have SYMBOL or ENTREZ\n",
        "  ont = \"ALL\",\n",
        "  pAdjustMethod = \"BH\",\n",
        "  pvalueCutoff = 0.05,\n",
        "  qvalueCutoff = 0.2,\n",
        "  readable = TRUE\n",
        ")\n",
        "\n",
        "# 6. Visualize GO results\n",
        "dotplot(ego, showCategory=15, title=\"GO enrichment analysis\")\n",
        "barplot(ego, showCategory=15)\n",
        "\n",
        "# 7. KEGG Pathway Enrichment Analysis\n",
        "ekegg <- enrichKEGG(\n",
        "  gene = entrez_list,\n",
        "  organism = \"hsa\",   # \"mmu\" for mouse, etc.\n",
        "  pvalueCutoff = 0.05\n",
        ")\n",
        "\n",
        "# 8. Visualize KEGG results\n",
        "dotplot(ekegg, showCategory=15, title=\"KEGG Pathway Enrichment\")\n",
        "\n",
        "# 9. Optional: Visualize a specific KEGG pathway with fold change overlay\n",
        "gene_fc <- sig_degs$log2FC\n",
        "names(gene_fc) <- entrez_ids$ENTREZID[match(sig_degs$gene_id, entrez_ids$ENSEMBL)]\n",
        "\n",
        "# Example KEGG pathway ID: hsa04110 (Cell cycle)\n",
        "pathview(gene.data = gene_fc, pathway.id = \"hsa04110\", species = \"hsa\")\n",
        "\n",
        "# 10. Export results to CSV files\n",
        "write.csv(as.data.frame(ego), \"GO_enrichment_results.csv\", row.names=FALSE)\n",
        "write.csv(as.data.frame(ekegg), \"KEGG_enrichment_results.csv\", row.names=FALSE)\n"
      ],
      "metadata": {
        "id": "cQre5vPg6NTr"
      },
      "execution_count": null,
      "outputs": []
    },
    {
      "cell_type": "markdown",
      "metadata": {
        "id": "f8-wo-l4QHe3"
      },
      "source": [
        "PUtting rG4 detector into this"
      ]
    },
    {
      "cell_type": "code",
      "execution_count": null,
      "metadata": {
        "id": "uWx7bMA1SKkr"
      },
      "outputs": [],
      "source": [
        "file.exists(\"/content/Mydrive/rna_sequences_HU_Polysome.fasta\")\n",
        "file.exists(\"/content/Mydrive/rG4detector/model\")\n"
      ]
    },
    {
      "cell_type": "code",
      "execution_count": null,
      "metadata": {
        "id": "GHQOcLvy0hdi"
      },
      "outputs": [],
      "source": [
        "install.packages(c(\"shiny\", \"G4Hunter\", \"other-required-packages\"))\n"
      ]
    },
    {
      "cell_type": "code",
      "execution_count": null,
      "metadata": {
        "id": "h1fPcTCe5ILS"
      },
      "outputs": [],
      "source": [
        "library(shiny)"
      ]
    },
    {
      "cell_type": "code",
      "execution_count": null,
      "metadata": {
        "id": "GAMgQh8x0_5g"
      },
      "outputs": [],
      "source": [
        "system(\"git clone https://github.com/LacroixLaurent/G4Hunter\")\n",
        "system(\"git clone https://github.com/LacroixLaurent/G4HunterSeeker\")\n",
        "\n",
        "list.files(\"/content/G4HunterSeeker\")\n",
        "\n"
      ]
    },
    {
      "cell_type": "code",
      "execution_count": null,
      "metadata": {
        "colab": {
          "background_save": true
        },
        "id": "WrE8ydWv2o7Y"
      },
      "outputs": [],
      "source": [
        "library(shiny)\n",
        "runApp(\"/content/G4HunterSeeker\")\n"
      ]
    }
  ],
  "metadata": {
    "colab": {
      "provenance": [],
      "authorship_tag": "ABX9TyPkEvxnJfTgqqnSiFRPI/K4",
      "include_colab_link": true
    },
    "kernelspec": {
      "display_name": "R",
      "name": "ir"
    },
    "language_info": {
      "name": "R"
    }
  },
  "nbformat": 4,
  "nbformat_minor": 0
}